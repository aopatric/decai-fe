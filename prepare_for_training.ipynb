{
 "cells": [
  {
   "cell_type": "markdown",
   "metadata": {},
   "source": [
    "# Offline Step: Generation of Training Artifacts and Dataset Download"
   ]
  },
  {
   "cell_type": "markdown",
   "metadata": {},
   "source": [
    "## Part 1: Training Artficat Generation"
   ]
  },
  {
   "cell_type": "code",
   "execution_count": null,
   "metadata": {},
   "outputs": [],
   "source": [
    "%pip install --upgrade pip\n",
    "%pip install onnxruntime torch torchvision medmnist tqdm\n",
    "%pip install cerberus flatbuffers h5py numpy onnx packaging protobuf sympy setuptools\n",
    "%pip install -i https://aiinfra.pkgs.visualstudio.com/PublicPackages/_packaging/ORT/pypi/simple/ onnxruntime-training-cpu\n",
    "%pip install netron"
   ]
  },
  {
   "cell_type": "code",
   "execution_count": null,
   "metadata": {},
   "outputs": [],
   "source": [
    "# largely borrowed from https://www.youtube.com/watch?v=u7YCaiHOC9o\n",
    "\n",
    "import torch\n",
    "import os\n",
    "import torchvision\n",
    "import netron\n",
    "\n",
    "os.makedirs(\"public\", exist_ok=True)\n",
    "os.makedirs(\"public/training_artifacts\", exist_ok=True)\n",
    "\n",
    "# load weights from pretrained resnet model\n",
    "model = torchvision.models.resnet50(\n",
    "    weights=torchvision.models.ResNet50_Weights.DEFAULT\n",
    ")\n",
    "\n",
    "\n",
    "# changing last layer to only output one of 8 classes since bloodMNIST only has 8\n",
    "num_fc_feats = model.fc.in_features\n",
    "model.fc = torch.nn.Linear(num_fc_feats, 8)\n",
    "\n",
    "# convert the model to ONNX\n",
    "model.train()\n",
    "model_name = \"resnet50\"\n",
    "torch.onnx.export(model,\n",
    "                  torch.randn(1, 3, 224, 224),\n",
    "                  f\"public/training_artifacts/{model_name}.onnx\",\n",
    "                  input_names=[\"input\"],\n",
    "                  output_names=[\"output\"],\n",
    "                  dynamic_axes={\"input\": {0: \"batch\"}, \"output\": {0: \"batch\"}},\n",
    "                  export_params=True,\n",
    "                  do_constant_folding=False\n",
    ")\n",
    "\n",
    "netron.start(f\"public/training_artifacts/{model_name}.onnx\")"
   ]
  },
  {
   "cell_type": "markdown",
   "metadata": {},
   "source": [
    "Now we have a model converted to ONNX format, need to generate the training artifacts that we will use later:"
   ]
  },
  {
   "cell_type": "code",
   "execution_count": null,
   "metadata": {},
   "outputs": [],
   "source": [
    "import onnx\n",
    "from onnxruntime.training import artifacts\n",
    "\n",
    "# get the onnx model\n",
    "onnx_model = onnx.load(f\"..public/training_artifacts/{model_name}.onnx\")\n",
    "\n",
    "# distinguish which weights we want to train and which we want to leave (in demo case, only last layer)\n",
    "requires_grad = [\"fc.weight\", \"fc.bias\"]\n",
    "frozen_params = [\n",
    "    param.name\n",
    "    for param in onnx_model.graph.initializer\n",
    "    if param.name not in requires_grad\n",
    "]\n",
    "\n",
    "# generate the training artifacts\n",
    "artifacts.generate_artifacts(\n",
    "    onnx_model,\n",
    "    requires_grad=requires_grad,\n",
    "    frozen_params=frozen_params,\n",
    "    loss=artifacts.LossType.CrossEntropyLoss,\n",
    "    optimizer=artifacts.OptimType.AdamW,\n",
    "    artifact_directory=\"..public/training_artifacts\"\n",
    ")"
   ]
  },
  {
   "cell_type": "markdown",
   "metadata": {},
   "source": [
    "## Part 2: Dataset Download and Install\n",
    "\n",
    "For the purposes of this demo, we install the bloodMNIST dataset and test using that."
   ]
  },
  {
   "cell_type": "code",
   "execution_count": null,
   "metadata": {},
   "outputs": [],
   "source": [
    "!python convert_dataset.py --data_flag \"bloodmnist\" --output_dir \"public/data\""
   ]
  }
 ],
 "metadata": {
  "kernelspec": {
   "display_name": "venv",
   "language": "python",
   "name": "python3"
  },
  "language_info": {
   "codemirror_mode": {
    "name": "ipython",
    "version": 3
   },
   "file_extension": ".py",
   "mimetype": "text/x-python",
   "name": "python",
   "nbconvert_exporter": "python",
   "pygments_lexer": "ipython3",
   "version": "3.12.3"
  }
 },
 "nbformat": 4,
 "nbformat_minor": 2
}
